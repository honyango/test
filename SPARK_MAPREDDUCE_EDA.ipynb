{
  "nbformat": 4,
  "nbformat_minor": 0,
  "metadata": {
    "colab": {
      "provenance": [],
      "mount_file_id": "1FqFveiEBG00RR-29WzfGCInbCgs--Zcy",
      "authorship_tag": "ABX9TyM4dvtBTGowg9eVeCvn1EZ9",
      "include_colab_link": true
    },
    "kernelspec": {
      "name": "python3",
      "display_name": "Python 3"
    },
    "language_info": {
      "name": "python"
    }
  },
  "cells": [
    {
      "cell_type": "markdown",
      "metadata": {
        "id": "view-in-github",
        "colab_type": "text"
      },
      "source": [
        "<a href=\"https://colab.research.google.com/github/honyango/test/blob/main/SPARK_MAPREDDUCE_EDA.ipynb\" target=\"_parent\"><img src=\"https://colab.research.google.com/assets/colab-badge.svg\" alt=\"Open In Colab\"/></a>"
      ]
    },
    {
      "cell_type": "code",
      "execution_count": 5,
      "metadata": {
        "id": "nPfs84BUHc8C"
      },
      "outputs": [],
      "source": [
        "# Install Java\n",
        "!apt-get install openjdk-8-jdk-headless -qq > /dev/null\n",
        "\n",
        "# Download and install Spark\n",
        "!wget -q https://archive.apache.org/dist/spark/spark-3.5.0/spark-3.5.0-bin-hadoop3.tgz\n",
        "!tar xf spark-3.5.0-bin-hadoop3.tgz\n",
        "\n",
        "# Install required Python package\n",
        "!pip install -q findspark"
      ]
    },
    {
      "cell_type": "markdown",
      "source": [
        "Step 2: Set Environment Variables"
      ],
      "metadata": {
        "id": "vuuP4a-KJZjA"
      }
    },
    {
      "cell_type": "code",
      "source": [
        "import os\n",
        "\n",
        "os.environ[\"JAVA_HOME\"] = \"/usr/lib/jvm/java-8-openjdk-amd64\"\n",
        "os.environ[\"SPARK_HOME\"] = \"/content/spark-3.5.0-bin-hadoop3\"\n"
      ],
      "metadata": {
        "id": "G3h28B9BJeKr"
      },
      "execution_count": 3,
      "outputs": []
    },
    {
      "cell_type": "markdown",
      "source": [
        "Step 3: Initialize Spark"
      ],
      "metadata": {
        "id": "aUqqhc6TJie7"
      }
    },
    {
      "cell_type": "code",
      "source": [
        "import findspark\n",
        "findspark.init()\n",
        "\n",
        "from pyspark.sql import SparkSession\n",
        "from pyspark.sql.functions import col, avg, count, desc\n",
        "\n",
        "# Start Spark session\n",
        "spark = SparkSession.builder.appName(\"job_skills\").getOrCreate()\n"
      ],
      "metadata": {
        "id": "355DcGNMJpR6"
      },
      "execution_count": 7,
      "outputs": []
    },
    {
      "cell_type": "markdown",
      "source": [
        "Step 4: Upload Sample Dataset"
      ],
      "metadata": {
        "id": "j6jR6N3vKKYO"
      }
    },
    {
      "cell_type": "code",
      "source": [
        "from google.colab import files\n",
        "uploaded = files.upload()\n"
      ],
      "metadata": {
        "colab": {
          "base_uri": "https://localhost:8080/",
          "height": 73
        },
        "id": "V7HY-IXPKQ4v",
        "outputId": "dfd660ca-7dd1-4a00-ce9d-7c18ec15b8d5"
      },
      "execution_count": 9,
      "outputs": [
        {
          "output_type": "display_data",
          "data": {
            "text/plain": [
              "<IPython.core.display.HTML object>"
            ],
            "text/html": [
              "\n",
              "     <input type=\"file\" id=\"files-beb7773e-0ad2-4740-bc21-a123d82234ef\" name=\"files[]\" multiple disabled\n",
              "        style=\"border:none\" />\n",
              "     <output id=\"result-beb7773e-0ad2-4740-bc21-a123d82234ef\">\n",
              "      Upload widget is only available when the cell has been executed in the\n",
              "      current browser session. Please rerun this cell to enable.\n",
              "      </output>\n",
              "      <script>// Copyright 2017 Google LLC\n",
              "//\n",
              "// Licensed under the Apache License, Version 2.0 (the \"License\");\n",
              "// you may not use this file except in compliance with the License.\n",
              "// You may obtain a copy of the License at\n",
              "//\n",
              "//      http://www.apache.org/licenses/LICENSE-2.0\n",
              "//\n",
              "// Unless required by applicable law or agreed to in writing, software\n",
              "// distributed under the License is distributed on an \"AS IS\" BASIS,\n",
              "// WITHOUT WARRANTIES OR CONDITIONS OF ANY KIND, either express or implied.\n",
              "// See the License for the specific language governing permissions and\n",
              "// limitations under the License.\n",
              "\n",
              "/**\n",
              " * @fileoverview Helpers for google.colab Python module.\n",
              " */\n",
              "(function(scope) {\n",
              "function span(text, styleAttributes = {}) {\n",
              "  const element = document.createElement('span');\n",
              "  element.textContent = text;\n",
              "  for (const key of Object.keys(styleAttributes)) {\n",
              "    element.style[key] = styleAttributes[key];\n",
              "  }\n",
              "  return element;\n",
              "}\n",
              "\n",
              "// Max number of bytes which will be uploaded at a time.\n",
              "const MAX_PAYLOAD_SIZE = 100 * 1024;\n",
              "\n",
              "function _uploadFiles(inputId, outputId) {\n",
              "  const steps = uploadFilesStep(inputId, outputId);\n",
              "  const outputElement = document.getElementById(outputId);\n",
              "  // Cache steps on the outputElement to make it available for the next call\n",
              "  // to uploadFilesContinue from Python.\n",
              "  outputElement.steps = steps;\n",
              "\n",
              "  return _uploadFilesContinue(outputId);\n",
              "}\n",
              "\n",
              "// This is roughly an async generator (not supported in the browser yet),\n",
              "// where there are multiple asynchronous steps and the Python side is going\n",
              "// to poll for completion of each step.\n",
              "// This uses a Promise to block the python side on completion of each step,\n",
              "// then passes the result of the previous step as the input to the next step.\n",
              "function _uploadFilesContinue(outputId) {\n",
              "  const outputElement = document.getElementById(outputId);\n",
              "  const steps = outputElement.steps;\n",
              "\n",
              "  const next = steps.next(outputElement.lastPromiseValue);\n",
              "  return Promise.resolve(next.value.promise).then((value) => {\n",
              "    // Cache the last promise value to make it available to the next\n",
              "    // step of the generator.\n",
              "    outputElement.lastPromiseValue = value;\n",
              "    return next.value.response;\n",
              "  });\n",
              "}\n",
              "\n",
              "/**\n",
              " * Generator function which is called between each async step of the upload\n",
              " * process.\n",
              " * @param {string} inputId Element ID of the input file picker element.\n",
              " * @param {string} outputId Element ID of the output display.\n",
              " * @return {!Iterable<!Object>} Iterable of next steps.\n",
              " */\n",
              "function* uploadFilesStep(inputId, outputId) {\n",
              "  const inputElement = document.getElementById(inputId);\n",
              "  inputElement.disabled = false;\n",
              "\n",
              "  const outputElement = document.getElementById(outputId);\n",
              "  outputElement.innerHTML = '';\n",
              "\n",
              "  const pickedPromise = new Promise((resolve) => {\n",
              "    inputElement.addEventListener('change', (e) => {\n",
              "      resolve(e.target.files);\n",
              "    });\n",
              "  });\n",
              "\n",
              "  const cancel = document.createElement('button');\n",
              "  inputElement.parentElement.appendChild(cancel);\n",
              "  cancel.textContent = 'Cancel upload';\n",
              "  const cancelPromise = new Promise((resolve) => {\n",
              "    cancel.onclick = () => {\n",
              "      resolve(null);\n",
              "    };\n",
              "  });\n",
              "\n",
              "  // Wait for the user to pick the files.\n",
              "  const files = yield {\n",
              "    promise: Promise.race([pickedPromise, cancelPromise]),\n",
              "    response: {\n",
              "      action: 'starting',\n",
              "    }\n",
              "  };\n",
              "\n",
              "  cancel.remove();\n",
              "\n",
              "  // Disable the input element since further picks are not allowed.\n",
              "  inputElement.disabled = true;\n",
              "\n",
              "  if (!files) {\n",
              "    return {\n",
              "      response: {\n",
              "        action: 'complete',\n",
              "      }\n",
              "    };\n",
              "  }\n",
              "\n",
              "  for (const file of files) {\n",
              "    const li = document.createElement('li');\n",
              "    li.append(span(file.name, {fontWeight: 'bold'}));\n",
              "    li.append(span(\n",
              "        `(${file.type || 'n/a'}) - ${file.size} bytes, ` +\n",
              "        `last modified: ${\n",
              "            file.lastModifiedDate ? file.lastModifiedDate.toLocaleDateString() :\n",
              "                                    'n/a'} - `));\n",
              "    const percent = span('0% done');\n",
              "    li.appendChild(percent);\n",
              "\n",
              "    outputElement.appendChild(li);\n",
              "\n",
              "    const fileDataPromise = new Promise((resolve) => {\n",
              "      const reader = new FileReader();\n",
              "      reader.onload = (e) => {\n",
              "        resolve(e.target.result);\n",
              "      };\n",
              "      reader.readAsArrayBuffer(file);\n",
              "    });\n",
              "    // Wait for the data to be ready.\n",
              "    let fileData = yield {\n",
              "      promise: fileDataPromise,\n",
              "      response: {\n",
              "        action: 'continue',\n",
              "      }\n",
              "    };\n",
              "\n",
              "    // Use a chunked sending to avoid message size limits. See b/62115660.\n",
              "    let position = 0;\n",
              "    do {\n",
              "      const length = Math.min(fileData.byteLength - position, MAX_PAYLOAD_SIZE);\n",
              "      const chunk = new Uint8Array(fileData, position, length);\n",
              "      position += length;\n",
              "\n",
              "      const base64 = btoa(String.fromCharCode.apply(null, chunk));\n",
              "      yield {\n",
              "        response: {\n",
              "          action: 'append',\n",
              "          file: file.name,\n",
              "          data: base64,\n",
              "        },\n",
              "      };\n",
              "\n",
              "      let percentDone = fileData.byteLength === 0 ?\n",
              "          100 :\n",
              "          Math.round((position / fileData.byteLength) * 100);\n",
              "      percent.textContent = `${percentDone}% done`;\n",
              "\n",
              "    } while (position < fileData.byteLength);\n",
              "  }\n",
              "\n",
              "  // All done.\n",
              "  yield {\n",
              "    response: {\n",
              "      action: 'complete',\n",
              "    }\n",
              "  };\n",
              "}\n",
              "\n",
              "scope.google = scope.google || {};\n",
              "scope.google.colab = scope.google.colab || {};\n",
              "scope.google.colab._files = {\n",
              "  _uploadFiles,\n",
              "  _uploadFilesContinue,\n",
              "};\n",
              "})(self);\n",
              "</script> "
            ]
          },
          "metadata": {}
        },
        {
          "output_type": "stream",
          "name": "stdout",
          "text": [
            "Saving linkedin_job_postings.csv to linkedin_job_postings (1).csv\n"
          ]
        }
      ]
    },
    {
      "cell_type": "markdown",
      "source": [
        "Step 5: Load and Process the Data with Spark"
      ],
      "metadata": {
        "id": "DWctg5O0W0A7"
      }
    },
    {
      "cell_type": "code",
      "source": [
        "# Read CSV into Spark DataFrame\n",
        "df = spark.read.csv(\"transactions.csv\", header=True, inferSchema=True)\n",
        "\n",
        "# Show schema\n",
        "df.printSchema()\n",
        "\n",
        "# Display first few rows\n",
        "df.show()\n"
      ],
      "metadata": {
        "colab": {
          "base_uri": "https://localhost:8080/"
        },
        "id": "M-KQxZ0gW1Vh",
        "outputId": "7e491e4e-3e09-4ad3-95c9-d2968a4b7e91"
      },
      "execution_count": 11,
      "outputs": [
        {
          "output_type": "stream",
          "name": "stdout",
          "text": [
            "root\n",
            " |-- job_link: string (nullable = true)\n",
            " |-- last_processed_time: string (nullable = true)\n",
            " |-- got_summary: string (nullable = true)\n",
            " |-- got_ner: string (nullable = true)\n",
            " |-- is_being_worked: string (nullable = true)\n",
            " |-- job_title: string (nullable = true)\n",
            " |-- company: string (nullable = true)\n",
            " |-- job_location: string (nullable = true)\n",
            " |-- first_seen: string (nullable = true)\n",
            " |-- search_city: string (nullable = true)\n",
            " |-- search_country: string (nullable = true)\n",
            " |-- search_position: string (nullable = true)\n",
            " |-- job_level: string (nullable = true)\n",
            " |-- job_type: string (nullable = true)\n",
            "\n",
            "+--------------------+--------------------+-----------+-------+---------------+--------------------+--------------------+--------------------+----------+---------------+--------------+--------------------+----------+--------+\n",
            "|            job_link| last_processed_time|got_summary|got_ner|is_being_worked|           job_title|             company|        job_location|first_seen|    search_city|search_country|     search_position| job_level|job_type|\n",
            "+--------------------+--------------------+-----------+-------+---------------+--------------------+--------------------+--------------------+----------+---------------+--------------+--------------------+----------+--------+\n",
            "|https://www.linke...|2024-01-21 07:12:...|          t|      t|              f|Account Executive...|                  BD|       San Diego, CA|2024-01-15|       Coronado| United States|         Color Maker|Mid senior|  Onsite|\n",
            "|https://www.linke...|2024-01-21 07:39:...|          t|      t|              f|Registered Nurse ...|   Trinity Health MI|   Norton Shores, MI|2024-01-14|    Grand Haven| United States|Director Nursing ...|Mid senior|  Onsite|\n",
            "|https://www.linke...|2024-01-21 07:40:...|          t|      t|              f|RESTAURANT SUPERV...|Wasatch Adaptive ...|           Sandy, UT|2024-01-14|         Tooele| United States|            Stand-In|Mid senior|  Onsite|\n",
            "|https://www.linke...|2024-01-21 07:40:...|          t|      t|              f|Independent Real ...|Howard Hanna | Ra...|Englewood Cliffs, NJ|2024-01-16|      Pinehurst| United States|   Real-Estate Clerk|Mid senior|  Onsite|\n",
            "|https://www.linke...|2024-01-19 09:45:...|          f|      f|              f|Group/Unit Superv...|IRS, Office of Ch...|        Chamblee, GA|2024-01-17|        Gadsden| United States|Supervisor Travel...|Mid senior|  Onsite|\n",
            "|https://www.linke...|2024-01-19 09:45:...|          f|      f|              f|  Counselor-07532802|                 ICL|        Brooklyn, NY|2024-01-16|     Oyster Bay| United States| Residence Counselor|Mid senior|  Onsite|\n",
            "|https://www.linke...|2024-01-21 08:08:...|          t|      t|              f|Registered Nurse ...|   Trinity Health MI|        Muskegon, MI|2024-01-14|       Muskegon| United States|  Nurse Practitioner|Mid senior|  Onsite|\n",
            "|https://www.linke...|2024-01-21 08:08:...|          t|      t|              f|Part Time- HR Gen...|Creative Financia...|        New York, NY|2024-01-16|   White Plains| United States|Human Resource Ad...|Mid senior|  Onsite|\n",
            "|https://uk.linked...|2024-01-21 08:08:...|          t|      t|              f|       Store Manager|          B&M Retail|London, England, ...|2024-01-15|         Slough|United Kingdom|              Double|Mid senior|  Onsite|\n",
            "|https://ca.linked...|2024-01-21 08:08:...|          t|      t|              f|Engineering Proje...|Shared Health-Soi...|Winnipeg, Manitob...|2024-01-14|       Manitoba|        Canada| Program Coordinator|Mid senior|  Onsite|\n",
            "|https://www.linke...|2024-01-21 08:08:...|          t|      t|              f|Special Agent: La...|Federal Bureau of...|Austin, Texas Met...|2024-01-16|         Austin| United States|       Special Agent| Associate|  Onsite|\n",
            "|https://www.linke...|2024-01-21 08:08:...|          t|      t|              f|Manager, Site Ope...|            ICON plc|       Knoxville, TN|2024-01-14|     Louisville| United States|              Vendor|Mid senior|  Onsite|\n",
            "|https://www.linke...|2024-01-21 08:08:...|          t|      t|              f|Assistant Vice Pr...|  RWJBarnabas Health|      Somerville, NJ|2024-01-16|   Hillsborough| United States|Psychiatric Techn...|Mid senior|  Onsite|\n",
            "|https://www.linke...|2024-01-21 08:08:...|          t|      t|              f|Control Systems I...|              Olsson|         Lincoln, NE|2024-01-14|       Nebraska| United States|  Solutions Operator| Associate|  Onsite|\n",
            "|https://www.linke...|2024-01-21 08:08:...|          t|      t|              f|LEAD SALES ASSOCI...|      Dollar General|          Tipton, IN|2024-01-14|         Carmel| United States|Circulation-Sales...|Mid senior|  Onsite|\n",
            "|https://www.linke...|2024-01-21 02:01:...|          t|      t|              f|Entry-Level Finan...| Northwestern Mutual|Fairfield County, CT|2024-01-14|          Derby| United States|       Change Person|Mid senior|  Onsite|\n",
            "|https://www.linke...|2024-01-21 02:01:...|          t|      t|              f|Senior Associate,...|             KPMG US|         Chicago, IL|2024-01-14|   Calumet City| United States|            Stand-In| Associate|  Onsite|\n",
            "|https://www.linke...|2024-01-21 02:01:...|          t|      t|              f|Human Resources G...|           SIG Group|          Merced, CA|2024-01-14|         Merced| United States|    Manager Benefits|Mid senior|  Onsite|\n",
            "|https://au.linked...|2024-01-21 02:01:...|          t|      t|              f|Supervisor - Hort...|Green Options Lan...|Sydney, New South...|2024-01-15|New South Wales|     Australia|  Booking Supervisor|Mid senior|  Onsite|\n",
            "|https://www.linke...|2024-01-21 02:01:...|          t|      t|              f|Analyst, Associat...|            RITE AID|       Yocumtown, PA|2024-01-13|        Lebanon| United States|Quality Assurance...|Mid senior|  Onsite|\n",
            "+--------------------+--------------------+-----------+-------+---------------+--------------------+--------------------+--------------------+----------+---------------+--------------+--------------------+----------+--------+\n",
            "only showing top 20 rows\n",
            "\n"
          ]
        }
      ]
    },
    {
      "cell_type": "markdown",
      "source": [
        "Step 6: Perform Data Transformations (EDA)"
      ],
      "metadata": {
        "id": "Dar5_IsnW9x9"
      }
    },
    {
      "cell_type": "markdown",
      "source": [
        "a. Filter Transactions > $100"
      ],
      "metadata": {
        "id": "DdAa-q9sXIDX"
      }
    },
    {
      "cell_type": "code",
      "source": [
        "high_value_tx = df.filter(col(\"job_level\") == \"Mid senior\")\n",
        "print(\"Jobs with Mid senior job level:\")\n",
        "high_value_tx.show()"
      ],
      "metadata": {
        "colab": {
          "base_uri": "https://localhost:8080/"
        },
        "id": "fghfR01iW_Ap",
        "outputId": "b4d10080-06e2-45a4-e841-51d202bbf44d"
      },
      "execution_count": 21,
      "outputs": [
        {
          "output_type": "stream",
          "name": "stdout",
          "text": [
            "Jobs with Mid senior job level:\n",
            "+--------------------+--------------------+-----------+-------+---------------+--------------------+--------------------+--------------------+----------+---------------+--------------+--------------------+----------+--------+\n",
            "|            job_link| last_processed_time|got_summary|got_ner|is_being_worked|           job_title|             company|        job_location|first_seen|    search_city|search_country|     search_position| job_level|job_type|\n",
            "+--------------------+--------------------+-----------+-------+---------------+--------------------+--------------------+--------------------+----------+---------------+--------------+--------------------+----------+--------+\n",
            "|https://www.linke...|2024-01-21 07:12:...|          t|      t|              f|Account Executive...|                  BD|       San Diego, CA|2024-01-15|       Coronado| United States|         Color Maker|Mid senior|  Onsite|\n",
            "|https://www.linke...|2024-01-21 07:39:...|          t|      t|              f|Registered Nurse ...|   Trinity Health MI|   Norton Shores, MI|2024-01-14|    Grand Haven| United States|Director Nursing ...|Mid senior|  Onsite|\n",
            "|https://www.linke...|2024-01-21 07:40:...|          t|      t|              f|RESTAURANT SUPERV...|Wasatch Adaptive ...|           Sandy, UT|2024-01-14|         Tooele| United States|            Stand-In|Mid senior|  Onsite|\n",
            "|https://www.linke...|2024-01-21 07:40:...|          t|      t|              f|Independent Real ...|Howard Hanna | Ra...|Englewood Cliffs, NJ|2024-01-16|      Pinehurst| United States|   Real-Estate Clerk|Mid senior|  Onsite|\n",
            "|https://www.linke...|2024-01-19 09:45:...|          f|      f|              f|Group/Unit Superv...|IRS, Office of Ch...|        Chamblee, GA|2024-01-17|        Gadsden| United States|Supervisor Travel...|Mid senior|  Onsite|\n",
            "|https://www.linke...|2024-01-19 09:45:...|          f|      f|              f|  Counselor-07532802|                 ICL|        Brooklyn, NY|2024-01-16|     Oyster Bay| United States| Residence Counselor|Mid senior|  Onsite|\n",
            "|https://www.linke...|2024-01-21 08:08:...|          t|      t|              f|Registered Nurse ...|   Trinity Health MI|        Muskegon, MI|2024-01-14|       Muskegon| United States|  Nurse Practitioner|Mid senior|  Onsite|\n",
            "|https://www.linke...|2024-01-21 08:08:...|          t|      t|              f|Part Time- HR Gen...|Creative Financia...|        New York, NY|2024-01-16|   White Plains| United States|Human Resource Ad...|Mid senior|  Onsite|\n",
            "|https://uk.linked...|2024-01-21 08:08:...|          t|      t|              f|       Store Manager|          B&M Retail|London, England, ...|2024-01-15|         Slough|United Kingdom|              Double|Mid senior|  Onsite|\n",
            "|https://ca.linked...|2024-01-21 08:08:...|          t|      t|              f|Engineering Proje...|Shared Health-Soi...|Winnipeg, Manitob...|2024-01-14|       Manitoba|        Canada| Program Coordinator|Mid senior|  Onsite|\n",
            "|https://www.linke...|2024-01-21 08:08:...|          t|      t|              f|Manager, Site Ope...|            ICON plc|       Knoxville, TN|2024-01-14|     Louisville| United States|              Vendor|Mid senior|  Onsite|\n",
            "|https://www.linke...|2024-01-21 08:08:...|          t|      t|              f|Assistant Vice Pr...|  RWJBarnabas Health|      Somerville, NJ|2024-01-16|   Hillsborough| United States|Psychiatric Techn...|Mid senior|  Onsite|\n",
            "|https://www.linke...|2024-01-21 08:08:...|          t|      t|              f|LEAD SALES ASSOCI...|      Dollar General|          Tipton, IN|2024-01-14|         Carmel| United States|Circulation-Sales...|Mid senior|  Onsite|\n",
            "|https://www.linke...|2024-01-21 02:01:...|          t|      t|              f|Entry-Level Finan...| Northwestern Mutual|Fairfield County, CT|2024-01-14|          Derby| United States|       Change Person|Mid senior|  Onsite|\n",
            "|https://www.linke...|2024-01-21 02:01:...|          t|      t|              f|Human Resources G...|           SIG Group|          Merced, CA|2024-01-14|         Merced| United States|    Manager Benefits|Mid senior|  Onsite|\n",
            "|https://au.linked...|2024-01-21 02:01:...|          t|      t|              f|Supervisor - Hort...|Green Options Lan...|Sydney, New South...|2024-01-15|New South Wales|     Australia|  Booking Supervisor|Mid senior|  Onsite|\n",
            "|https://www.linke...|2024-01-21 02:01:...|          t|      t|              f|Analyst, Associat...|            RITE AID|       Yocumtown, PA|2024-01-13|        Lebanon| United States|Quality Assurance...|Mid senior|  Onsite|\n",
            "|https://www.linke...|2024-01-21 02:01:...|          t|      t|              f|Custodial Supervi...| Charter Schools USA| West Palm Beach, FL|2024-01-14|   Palm Springs| United States|             Charter|Mid senior|  Onsite|\n",
            "|https://www.linke...|2024-01-19 09:45:...|          f|      f|              f|Outside Sales - B...|       Welcome Wagon|     Forest Hill, MD|2024-01-15|       Maryland| United States|              Double|Mid senior|  Onsite|\n",
            "|https://www.linke...|2024-01-21 07:12:...|          t|      t|              f|RN Executive Dire...|           LHC Group|      Wytheville, VA|2024-01-14|      Bluefield| United States|Director Nursing ...|Mid senior|  Onsite|\n",
            "+--------------------+--------------------+-----------+-------+---------------+--------------------+--------------------+--------------------+----------+---------------+--------------+--------------------+----------+--------+\n",
            "only showing top 20 rows\n",
            "\n"
          ]
        }
      ]
    },
    {
      "cell_type": "markdown",
      "source": [
        "b. Average Transaction Amount by Type"
      ],
      "metadata": {
        "id": "U4AMFRhhXB1H"
      }
    },
    {
      "cell_type": "code",
      "source": [
        "avg_by_type = df.groupBy(\"job_type\").agg(count(\"*\").alias(\"count\"))\n",
        "print(\"Count by Job Type\")\n",
        "avg_by_type.show()"
      ],
      "metadata": {
        "colab": {
          "base_uri": "https://localhost:8080/"
        },
        "id": "UEa652QVXQsY",
        "outputId": "8700f19c-27d6-4052-a207-72f48cdf7b65"
      },
      "execution_count": 17,
      "outputs": [
        {
          "output_type": "stream",
          "name": "stdout",
          "text": [
            "Count by Job Type\n",
            "+--------------------+-------+\n",
            "|            job_type|  count|\n",
            "+--------------------+-------+\n",
            "|              Remote|   4259|\n",
            "|              Onsite|1337569|\n",
            "|              Driver|      1|\n",
            "|                NULL|     69|\n",
            "|              Hybrid|   6562|\n",
            "|          Mid senior|     16|\n",
            "|           Associate|     11|\n",
            "|Radiation-Therapy...|      1|\n",
            "+--------------------+-------+\n",
            "\n"
          ]
        }
      ]
    },
    {
      "cell_type": "markdown",
      "source": [
        "c. Top Locations by Transaction Count"
      ],
      "metadata": {
        "id": "BUueRBzCXTdx"
      }
    },
    {
      "cell_type": "code",
      "source": [
        "top_locations = df.groupBy(\"job_location\").agg(count(\"*\").alias(\"transaction_count\")) \\\n",
        "                  .orderBy(desc(\"transaction_count\"))\n",
        "print(\"Top Locations by Transaction Count\")\n",
        "top_locations.show()"
      ],
      "metadata": {
        "colab": {
          "base_uri": "https://localhost:8080/"
        },
        "id": "nAEU4R27XX7F",
        "outputId": "2b14fd4b-bb78-4cce-bff5-2a0ef00c6204"
      },
      "execution_count": 19,
      "outputs": [
        {
          "output_type": "stream",
          "name": "stdout",
          "text": [
            "Top Locations by Transaction Count\n",
            "+--------------------+-----------------+\n",
            "|        job_location|transaction_count|\n",
            "+--------------------+-----------------+\n",
            "|        New York, NY|            13435|\n",
            "|London, England, ...|            11756|\n",
            "|         Houston, TX|            10999|\n",
            "|         Chicago, IL|            10790|\n",
            "|     Los Angeles, CA|            10262|\n",
            "|         Atlanta, GA|             9208|\n",
            "|          Boston, MA|             8403|\n",
            "|          Dallas, TX|             8005|\n",
            "|          Austin, TX|             7678|\n",
            "|      Washington, DC|             7322|\n",
            "|         Phoenix, AZ|             7058|\n",
            "|       San Diego, CA|             6883|\n",
            "|       Charlotte, NC|             6774|\n",
            "|    Philadelphia, PA|             6685|\n",
            "|         Seattle, WA|             6584|\n",
            "|     San Antonio, TX|             6419|\n",
            "|   San Francisco, CA|             6014|\n",
            "|           Tampa, FL|             5896|\n",
            "|        Columbus, OH|             5798|\n",
            "|       Las Vegas, NV|             5691|\n",
            "+--------------------+-----------------+\n",
            "only showing top 20 rows\n",
            "\n"
          ]
        }
      ]
    },
    {
      "cell_type": "markdown",
      "source": [
        "8. Save and Download Results"
      ],
      "metadata": {
        "id": "gqkSQZdtXdE4"
      }
    },
    {
      "cell_type": "code",
      "source": [
        "# Convert Spark DataFrame to Pandas and download\n",
        "pandas_df = avg_by_type.toPandas()\n",
        "pandas_df.to_csv(\"average_by_type.csv\", index=False)\n",
        "\n",
        "files.download(\"average_by_type.csv\")\n"
      ],
      "metadata": {
        "id": "mDAhwKGVXk9i"
      },
      "execution_count": null,
      "outputs": []
    }
  ]
}