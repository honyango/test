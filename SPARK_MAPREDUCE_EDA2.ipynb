{
  "nbformat": 4,
  "nbformat_minor": 0,
  "metadata": {
    "colab": {
      "provenance": [],
      "mount_file_id": "1U7aNOQxozm9s7c74ah_QpBPwlU3yH8zK",
      "authorship_tag": "ABX9TyOA76yUFqHvIoEFoixSQJhW",
      "include_colab_link": true
    },
    "kernelspec": {
      "name": "python3",
      "display_name": "Python 3"
    },
    "language_info": {
      "name": "python"
    }
  },
  "cells": [
    {
      "cell_type": "markdown",
      "metadata": {
        "id": "view-in-github",
        "colab_type": "text"
      },
      "source": [
        "<a href=\"https://colab.research.google.com/github/honyango/test/blob/main/SPARK_MAPREDUCE_EDA2.ipynb\" target=\"_parent\"><img src=\"https://colab.research.google.com/assets/colab-badge.svg\" alt=\"Open In Colab\"/></a>"
      ]
    },
    {
      "cell_type": "code",
      "execution_count": 4,
      "metadata": {
        "colab": {
          "base_uri": "https://localhost:8080/",
          "height": 1000
        },
        "id": "HRoeUKuWKo7e",
        "outputId": "35de5394-db2c-4357-a21e-53fe5b34a723"
      },
      "outputs": [
        {
          "output_type": "stream",
          "name": "stdout",
          "text": [
            "--2025-09-28 16:47:14--  https://raw.githubusercontent.com/datasciencedojo/datasets/master/titanic.csv\n",
            "Resolving raw.githubusercontent.com (raw.githubusercontent.com)... 185.199.108.133, 185.199.109.133, 185.199.110.133, ...\n",
            "Connecting to raw.githubusercontent.com (raw.githubusercontent.com)|185.199.108.133|:443... connected.\n",
            "HTTP request sent, awaiting response... 200 OK\n",
            "Length: 60302 (59K) [text/plain]\n",
            "Saving to: ‘titanic.csv.1’\n",
            "\n",
            "titanic.csv.1       100%[===================>]  58.89K  --.-KB/s    in 0.02s   \n",
            "\n",
            "2025-09-28 16:47:15 (3.20 MB/s) - ‘titanic.csv.1’ saved [60302/60302]\n",
            "\n"
          ]
        },
        {
          "output_type": "display_data",
          "data": {
            "text/plain": [
              "<Figure size 640x480 with 1 Axes>"
            ],
            "image/png": "[encoded data removed]"
          },
          "metadata": {}
        },
        {
          "output_type": "stream",
          "name": "stdout",
          "text": [
            "Filtered Data (Survived Adults):\n",
            "+-----------+--------+------+--------------------+------+----+-----+-----+----------------+-------+-----+--------+\n",
            "|PassengerId|Survived|Pclass|                Name|   Sex| Age|SibSp|Parch|          Ticket|   Fare|Cabin|Embarked|\n",
            "+-----------+--------+------+--------------------+------+----+-----+-----+----------------+-------+-----+--------+\n",
            "|          2|       1|     1|Cumings, Mrs. Joh...|female|38.0|    1|    0|        PC 17599|71.2833|  C85|       C|\n",
            "|          3|       1|     3|Heikkinen, Miss. ...|female|26.0|    0|    0|STON/O2. 3101282|  7.925| NULL|       S|\n",
            "|          4|       1|     1|Futrelle, Mrs. Ja...|female|35.0|    1|    0|          113803|   53.1| C123|       S|\n",
            "|          9|       1|     3|Johnson, Mrs. Osc...|female|27.0|    0|    2|          347742|11.1333| NULL|       S|\n",
            "|         12|       1|     1|Bonnell, Miss. El...|female|58.0|    0|    0|          113783|  26.55| C103|       S|\n",
            "+-----------+--------+------+--------------------+------+----+-----+-----+----------------+-------+-----+--------+\n",
            "only showing top 5 rows\n",
            "\n",
            "Aggregated Data:\n",
            "+------+------+------------------+------------------+-----+\n",
            "|Pclass|   Sex|           Avg_Age|          Avg_Fare|Count|\n",
            "+------+------+------------------+------------------+-----+\n",
            "|     2|female|28.722972972972972| 21.97012105263158|   76|\n",
            "|     3|  male|26.507588932806325|12.661632564841513|  347|\n",
            "|     1|  male| 41.28138613861386| 67.22612704918033|  122|\n",
            "|     3|female|             21.75|16.118809722222224|  144|\n",
            "|     1|female| 34.61176470588235|106.12579787234041|   94|\n",
            "|     2|  male| 30.74070707070707| 19.74178240740741|  108|\n",
            "+------+------+------------------+------------------+-----+\n",
            "\n",
            "EDA Summary:\n",
            "+-------+------------------+-----------------+-------------------+\n",
            "|summary|               Age|             Fare|           Survived|\n",
            "+-------+------------------+-----------------+-------------------+\n",
            "|  count|               714|              891|                891|\n",
            "|   mean| 29.69911764705882| 32.2042079685746| 0.3838383838383838|\n",
            "| stddev|14.526497332334035|49.69342859718089|0.48659245426485753|\n",
            "|    min|              0.42|              0.0|                  0|\n",
            "|    max|              80.0|         512.3292|                  1|\n",
            "+-------+------------------+-----------------+-------------------+\n",
            "\n"
          ]
        }
      ],
      "source": [
        "# Cell 1: Install dependencies\n",
        "!apt-get install openjdk-8-jdk-headless -qq > /dev/null  # Install Java\n",
        "!wget -q https://archive.apache.org/dist/spark/spark-3.5.0/spark-3.5.0-bin-hadoop3.tgz  # Download Spark\n",
        "!tar xf spark-3.5.0-bin-hadoop3.tgz  # Extract\n",
        "!pip install -q findspark pyspark  # Install PySpark\n",
        "\n",
        "import os\n",
        "os.environ[\"JAVA_HOME\"] = \"/usr/lib/jvm/java-8-openjdk-amd64\"\n",
        "os.environ[\"SPARK_HOME\"] = \"/content/spark-3.5.0-bin-hadoop3\"\n",
        "\n",
        "import findspark\n",
        "findspark.init()\n",
        "\n",
        "# Cell 2: Download dataset\n",
        "!wget https://raw.githubusercontent.com/datasciencedojo/datasets/master/titanic.csv\n",
        "\n",
        "# Cell 3: Spark code execution\n",
        "from pyspark.sql import SparkSession\n",
        "from pyspark.sql.functions import avg, count\n",
        "import matplotlib.pyplot as plt\n",
        "import pandas as pd\n",
        "\n",
        "# Initialize Spark session\n",
        "spark = SparkSession.builder \\\n",
        "    .appName(\"Titanic Data Processing\") \\\n",
        "    .master(\"local[*]\") \\\n",
        "    .getOrCreate()\n",
        "\n",
        "# Load data\n",
        "df = spark.read.csv(\"titanic.csv\", header=True, inferSchema=True)\n",
        "\n",
        "# Filtering: Survived adults (age > 18)\n",
        "filtered_df = df.filter((df['Survived'] == 1) & (df['Age'] > 18))\n",
        "\n",
        "# Aggregation: Group by Pclass and Sex, compute avg Age/Fare and count\n",
        "agg_df = df.groupBy('Pclass', 'Sex').agg(\n",
        "    avg('Age').alias('Avg_Age'),\n",
        "    avg('Fare').alias('Avg_Fare'),\n",
        "    count('*').alias('Count')\n",
        ")\n",
        "\n",
        "# EDA: Summary statistics\n",
        "summary = df.describe(['Age', 'Fare', 'Survived'])\n",
        "\n",
        "# Convert to Pandas for plotting (simple bar chart: Survival by Class)\n",
        "pandas_df = df.groupBy('Pclass').agg(count('Survived').alias('Survival_Count')).toPandas()\n",
        "plt.bar(pandas_df['Pclass'], pandas_df['Survival_Count'])\n",
        "plt.xlabel('Passenger Class')\n",
        "plt.ylabel('Survival Count')\n",
        "plt.title('Survival by Passenger Class')\n",
        "plt.show()\n",
        "\n",
        "# Show results\n",
        "print(\"Filtered Data (Survived Adults):\")\n",
        "filtered_df.show(5)\n",
        "\n",
        "print(\"Aggregated Data:\")\n",
        "agg_df.show()\n",
        "\n",
        "print(\"EDA Summary:\")\n",
        "summary.show()\n",
        "\n",
        "# Stop Spark session\n",
        "spark.stop()"
      ]
    },
    {
      "cell_type": "markdown",
      "source": [
        "MAP REDUCE"
      ],
      "metadata": {
        "id": "q--PERuBONGz"
      }
    },
    {
      "cell_type": "code",
      "source": [
        "# Cell 1: Install mrjob\n",
        "!pip install mrjob\n",
        "\n",
        "# Cell 2: Download dataset (if not already done)\n",
        "!wget https://raw.githubusercontent.com/datasciencedojo/datasets/master/titanic.csv\n",
        "\n",
        "# Cell 3: Write MapReduce script to a file\n",
        "%%writefile titanic_mr.py\n",
        "from mrjob.job import MRJob, MRStep\n",
        "import csv\n",
        "\n",
        "class TitanicMR(MRJob):\n",
        "\n",
        "    def steps(self):\n",
        "        return [\n",
        "            MRStep(mapper=self.mapper, reducer=self.reducer)\n",
        "        ]\n",
        "\n",
        "    def mapper(self, _, line):\n",
        "        # Parse CSV line (skip header)\n",
        "        row = next(csv.reader([line]))\n",
        "        if row[0] == 'PassengerId':  # Skip header\n",
        "            return\n",
        "        survived = int(row[1])\n",
        "        pclass = int(row[2])\n",
        "        sex = row[5]\n",
        "        age = float(row[6]) if row[6] else 0  # Handle missing age\n",
        "        fare = float(row[9]) if row[9] else 0\n",
        "        # Filter: Survived adults\n",
        "        if survived == 1 and age > 18:\n",
        "            yield (pclass, sex), (age, fare, 1)  # For aggregation\n",
        "\n",
        "    def reducer(self, key, values):\n",
        "        total_age, total_fare, count = 0, 0, 0\n",
        "        for age, fare, c in values:\n",
        "            total_age += age\n",
        "            total_fare += fare\n",
        "            count += c\n",
        "        avg_age = total_age / count if count > 0 else 0\n",
        "        avg_fare = total_fare / count if count > 0 else 0\n",
        "        yield key, (avg_age, avg_fare, count)\n",
        "\n",
        "if __name__ == '__main__':\n",
        "    TitanicMR.run()\n",
        "\n",
        "# Cell 4: Run the MapReduce job\n",
        "!python titanic_mr.py titanic.csv > output.txt\n",
        "\n",
        "# Cell 5: Post-processing for EDA and plot\n",
        "import pandas as pd\n",
        "import matplotlib.pyplot as plt\n",
        "\n",
        "# Load original data for EDA\n",
        "df = pd.read_csv('titanic.csv')\n",
        "\n",
        "# Filtering (in Pandas for simplicity)\n",
        "filtered = df[(df['Survived'] == 1) & (df['Age'] > 18)]\n",
        "\n",
        "# EDA Summary\n",
        "summary = df[['Age', 'Fare', 'Survived']].describe()\n",
        "\n",
        "# Plot: Survival by Class\n",
        "survival_by_class = df.groupby('Pclass')['Survived'].count()\n",
        "survival_by_class.plot(kind='bar')\n",
        "plt.xlabel('Passenger Class')\n",
        "plt.ylabel('Survival Count')\n",
        "plt.title('Survival by Passenger Class')\n",
        "plt.show()\n",
        "\n",
        "# Show aggregated output from MR\n",
        "print(\"Aggregated Data from MapReduce:\")\n",
        "with open('output.txt') as f:\n",
        "    print(f.read())\n",
        "\n",
        "print(\"Filtered Data (first 5):\")\n",
        "print(filtered.head())\n",
        "\n",
        "print(\"EDA Summary:\")\n",
        "print(summary)"
      ],
      "metadata": {
        "colab": {
          "base_uri": "https://localhost:8080/"
        },
        "id": "6ao23srmOYKy",
        "outputId": "c7efc870-45e7-4061-b0d0-e7b64cead2b5"
      },
      "execution_count": 7,
      "outputs": [
        {
          "output_type": "stream",
          "name": "stdout",
          "text": [
            "Requirement already satisfied: mrjob in /usr/local/lib/python3.12/dist-packages (0.7.4)\n",
            "Requirement already satisfied: PyYAML>=3.10 in /usr/local/lib/python3.12/dist-packages (from mrjob) (6.0.2)\n",
            "--2025-09-28 17:09:18--  https://raw.githubusercontent.com/datasciencedojo/datasets/master/titanic.csv\n",
            "Resolving raw.githubusercontent.com (raw.githubusercontent.com)... 185.199.108.133, 185.199.109.133, 185.199.110.133, ...\n",
            "Connecting to raw.githubusercontent.com (raw.githubusercontent.com)|185.199.108.133|:443... connected.\n",
            "HTTP request sent, awaiting response... 200 OK\n",
            "Length: 60302 (59K) [text/plain]\n",
            "Saving to: ‘titanic.csv.4’\n",
            "\n",
            "titanic.csv.4       100%[===================>]  58.89K  --.-KB/s    in 0.02s   \n",
            "\n",
            "2025-09-28 17:09:18 (3.20 MB/s) - ‘titanic.csv.4’ saved [60302/60302]\n",
            "\n"
          ]
        },
        {
          "output_type": "stream",
          "name": "stderr",
          "text": [
            "UsageError: Line magic function `%%writefile` not found.\n"
          ]
        }
      ]
    }
  ]
}